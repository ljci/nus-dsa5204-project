{
  "nbformat": 4,
  "nbformat_minor": 0,
  "metadata": {
    "colab": {
      "provenance": []
    },
    "kernelspec": {
      "name": "python3",
      "display_name": "Python 3"
    },
    "language_info": {
      "name": "python"
    }
  },
  "cells": [
    {
      "cell_type": "markdown",
      "source": [
        "# README\n",
        "\n",
        "Previously, we used \"image_to_colmap.ipynb\" to process our custom image dataset. This produced a few text files to help us match our custom images to each other and create a 3D scene understanding for our image dataset.\n",
        "\n",
        "Now, this notebook \"colmap_to_ray_rgb_data.ipynb\"  is used for processing the outputs from the previous \"image_to_colmap.ipynb\" notebook. This notebook will generate the numpy array containing all ray origin, ray direction and rgb data from our custom dataset.\n",
        "\n",
        "\\\n",
        "\n",
        "Next, we will list out the inputs and outputs of this notebook.\n",
        "\n",
        "\\\n",
        "\n",
        "<b>NOTEBOOK INPUT</b> (all in the same root folder as this notebook)\n",
        "- zip file containing custom image dataset\n",
        "- cameras.txt\n",
        "- images.txt\n",
        "\n",
        "\\\n",
        "\n",
        "<b>NOTEBOOK OUTPUT</b>\n",
        "- full_ray_rgb_array.npz\n",
        "\n",
        "\\\n",
        "\n",
        "<b>Output Details</b>\n",
        "\n",
        "- \"full_ray_rgb_array.npz\" is a numpy array of shape (num_rays, 9).\n",
        "- It contains all the ray origin, ray direction and rgb data from our custom dataset.\n",
        "\n",
        "\\\n",
        "\n",
        "Here is what an example row in the \"full_ray_rgb_array.npz\" will look like:\n",
        "\n",
        "[\n",
        "  x_origin, y_origin, z_origin, &nbsp;  # Ray origin \\\n",
        "  dx, dy, dz, &nbsp;&nbsp;&nbsp;&nbsp;&nbsp;&nbsp;&nbsp;&nbsp;&nbsp;&nbsp;&nbsp;&nbsp;&nbsp;&nbsp;&nbsp;&nbsp;&nbsp;&nbsp;&nbsp;&nbsp;&nbsp;&nbsp;&nbsp;&nbsp;&nbsp;&nbsp;&nbsp;&nbsp;&nbsp;&nbsp;&nbsp;&nbsp; # Ray direction \\\n",
        "  r_value, g_value, b_value] &nbsp;&nbsp;&nbsp;&nbsp;&nbsp;# Pixel color \\\n",
        "\n",
        "\\\n"
      ],
      "metadata": {
        "id": "EPCedUn5hH-H"
      }
    },
    {
      "cell_type": "markdown",
      "source": [
        "# Import image dataset\n",
        "\n",
        "Assuming you are using google colab, you will be prompted to upload the zip file containing your image dataset. The images will be extracted into 'images_dir', which has been defined to be the root of our working colab folder."
      ],
      "metadata": {
        "id": "92qGgztNg00M"
      }
    },
    {
      "cell_type": "code",
      "source": [
        "images_dir = \"/content\"\n",
        "\n",
        "from google.colab import files\n",
        "uploaded = files.upload()  # Upload merlion_iphone_nerf.zip manually here\n",
        "\n",
        "\n",
        "import zipfile\n",
        "\n",
        "zip_path = list(uploaded.keys())[0]  # rename extracted folder to 'iphone'\n",
        "with zipfile.ZipFile(zip_path, 'r') as zip_ref:\n",
        "    zip_ref.extractall(images_dir)"
      ],
      "metadata": {
        "colab": {
          "base_uri": "https://localhost:8080/",
          "height": 71
        },
        "id": "hVQG7mW3mpMR",
        "outputId": "c85fd9e3-8978-4e5c-8296-410ca6b687f8"
      },
      "execution_count": 1,
      "outputs": [
        {
          "output_type": "display_data",
          "data": {
            "text/plain": [
              "<IPython.core.display.HTML object>"
            ],
            "text/html": [
              "\n",
              "     <input type=\"file\" id=\"files-06458b88-72b8-4dac-bb1f-60aab87b694f\" name=\"files[]\" multiple disabled\n",
              "        style=\"border:none\" />\n",
              "     <output id=\"result-06458b88-72b8-4dac-bb1f-60aab87b694f\">\n",
              "      Upload widget is only available when the cell has been executed in the\n",
              "      current browser session. Please rerun this cell to enable.\n",
              "      </output>\n",
              "      <script>// Copyright 2017 Google LLC\n",
              "//\n",
              "// Licensed under the Apache License, Version 2.0 (the \"License\");\n",
              "// you may not use this file except in compliance with the License.\n",
              "// You may obtain a copy of the License at\n",
              "//\n",
              "//      http://www.apache.org/licenses/LICENSE-2.0\n",
              "//\n",
              "// Unless required by applicable law or agreed to in writing, software\n",
              "// distributed under the License is distributed on an \"AS IS\" BASIS,\n",
              "// WITHOUT WARRANTIES OR CONDITIONS OF ANY KIND, either express or implied.\n",
              "// See the License for the specific language governing permissions and\n",
              "// limitations under the License.\n",
              "\n",
              "/**\n",
              " * @fileoverview Helpers for google.colab Python module.\n",
              " */\n",
              "(function(scope) {\n",
              "function span(text, styleAttributes = {}) {\n",
              "  const element = document.createElement('span');\n",
              "  element.textContent = text;\n",
              "  for (const key of Object.keys(styleAttributes)) {\n",
              "    element.style[key] = styleAttributes[key];\n",
              "  }\n",
              "  return element;\n",
              "}\n",
              "\n",
              "// Max number of bytes which will be uploaded at a time.\n",
              "const MAX_PAYLOAD_SIZE = 100 * 1024;\n",
              "\n",
              "function _uploadFiles(inputId, outputId) {\n",
              "  const steps = uploadFilesStep(inputId, outputId);\n",
              "  const outputElement = document.getElementById(outputId);\n",
              "  // Cache steps on the outputElement to make it available for the next call\n",
              "  // to uploadFilesContinue from Python.\n",
              "  outputElement.steps = steps;\n",
              "\n",
              "  return _uploadFilesContinue(outputId);\n",
              "}\n",
              "\n",
              "// This is roughly an async generator (not supported in the browser yet),\n",
              "// where there are multiple asynchronous steps and the Python side is going\n",
              "// to poll for completion of each step.\n",
              "// This uses a Promise to block the python side on completion of each step,\n",
              "// then passes the result of the previous step as the input to the next step.\n",
              "function _uploadFilesContinue(outputId) {\n",
              "  const outputElement = document.getElementById(outputId);\n",
              "  const steps = outputElement.steps;\n",
              "\n",
              "  const next = steps.next(outputElement.lastPromiseValue);\n",
              "  return Promise.resolve(next.value.promise).then((value) => {\n",
              "    // Cache the last promise value to make it available to the next\n",
              "    // step of the generator.\n",
              "    outputElement.lastPromiseValue = value;\n",
              "    return next.value.response;\n",
              "  });\n",
              "}\n",
              "\n",
              "/**\n",
              " * Generator function which is called between each async step of the upload\n",
              " * process.\n",
              " * @param {string} inputId Element ID of the input file picker element.\n",
              " * @param {string} outputId Element ID of the output display.\n",
              " * @return {!Iterable<!Object>} Iterable of next steps.\n",
              " */\n",
              "function* uploadFilesStep(inputId, outputId) {\n",
              "  const inputElement = document.getElementById(inputId);\n",
              "  inputElement.disabled = false;\n",
              "\n",
              "  const outputElement = document.getElementById(outputId);\n",
              "  outputElement.innerHTML = '';\n",
              "\n",
              "  const pickedPromise = new Promise((resolve) => {\n",
              "    inputElement.addEventListener('change', (e) => {\n",
              "      resolve(e.target.files);\n",
              "    });\n",
              "  });\n",
              "\n",
              "  const cancel = document.createElement('button');\n",
              "  inputElement.parentElement.appendChild(cancel);\n",
              "  cancel.textContent = 'Cancel upload';\n",
              "  const cancelPromise = new Promise((resolve) => {\n",
              "    cancel.onclick = () => {\n",
              "      resolve(null);\n",
              "    };\n",
              "  });\n",
              "\n",
              "  // Wait for the user to pick the files.\n",
              "  const files = yield {\n",
              "    promise: Promise.race([pickedPromise, cancelPromise]),\n",
              "    response: {\n",
              "      action: 'starting',\n",
              "    }\n",
              "  };\n",
              "\n",
              "  cancel.remove();\n",
              "\n",
              "  // Disable the input element since further picks are not allowed.\n",
              "  inputElement.disabled = true;\n",
              "\n",
              "  if (!files) {\n",
              "    return {\n",
              "      response: {\n",
              "        action: 'complete',\n",
              "      }\n",
              "    };\n",
              "  }\n",
              "\n",
              "  for (const file of files) {\n",
              "    const li = document.createElement('li');\n",
              "    li.append(span(file.name, {fontWeight: 'bold'}));\n",
              "    li.append(span(\n",
              "        `(${file.type || 'n/a'}) - ${file.size} bytes, ` +\n",
              "        `last modified: ${\n",
              "            file.lastModifiedDate ? file.lastModifiedDate.toLocaleDateString() :\n",
              "                                    'n/a'} - `));\n",
              "    const percent = span('0% done');\n",
              "    li.appendChild(percent);\n",
              "\n",
              "    outputElement.appendChild(li);\n",
              "\n",
              "    const fileDataPromise = new Promise((resolve) => {\n",
              "      const reader = new FileReader();\n",
              "      reader.onload = (e) => {\n",
              "        resolve(e.target.result);\n",
              "      };\n",
              "      reader.readAsArrayBuffer(file);\n",
              "    });\n",
              "    // Wait for the data to be ready.\n",
              "    let fileData = yield {\n",
              "      promise: fileDataPromise,\n",
              "      response: {\n",
              "        action: 'continue',\n",
              "      }\n",
              "    };\n",
              "\n",
              "    // Use a chunked sending to avoid message size limits. See b/62115660.\n",
              "    let position = 0;\n",
              "    do {\n",
              "      const length = Math.min(fileData.byteLength - position, MAX_PAYLOAD_SIZE);\n",
              "      const chunk = new Uint8Array(fileData, position, length);\n",
              "      position += length;\n",
              "\n",
              "      const base64 = btoa(String.fromCharCode.apply(null, chunk));\n",
              "      yield {\n",
              "        response: {\n",
              "          action: 'append',\n",
              "          file: file.name,\n",
              "          data: base64,\n",
              "        },\n",
              "      };\n",
              "\n",
              "      let percentDone = fileData.byteLength === 0 ?\n",
              "          100 :\n",
              "          Math.round((position / fileData.byteLength) * 100);\n",
              "      percent.textContent = `${percentDone}% done`;\n",
              "\n",
              "    } while (position < fileData.byteLength);\n",
              "  }\n",
              "\n",
              "  // All done.\n",
              "  yield {\n",
              "    response: {\n",
              "      action: 'complete',\n",
              "    }\n",
              "  };\n",
              "}\n",
              "\n",
              "scope.google = scope.google || {};\n",
              "scope.google.colab = scope.google.colab || {};\n",
              "scope.google.colab._files = {\n",
              "  _uploadFiles,\n",
              "  _uploadFilesContinue,\n",
              "};\n",
              "})(self);\n",
              "</script> "
            ]
          },
          "metadata": {}
        },
        {
          "output_type": "stream",
          "name": "stdout",
          "text": [
            "Saving merlion_iphone_nerf.zip to merlion_iphone_nerf.zip\n"
          ]
        }
      ]
    },
    {
      "cell_type": "markdown",
      "source": [
        "\n",
        "\\\n",
        "\n",
        "# Set up utility functions\n",
        "\n",
        "In this section, we implement the core utility functions. Here is a short description of what each function does, and why they are needed:\n",
        "\n",
        "\\\n",
        "\n",
        "*   <b>qvec2rotmat(qvec)</b>: converts a quarternion vector into a 3x3 rotation matrix.\n",
        "\n",
        "> COLMAP outputs camera orientations as quarternions, converting them to rotation matrices is necessary to build the camera-to-world transformation.\n",
        "\n",
        "\n",
        "*   <b>parse_colmap_text(folder)</b>: parses 'cameras.txt' and 'images.txt', then extracts camera intrinsics and post information.\n",
        "\n",
        ">This extracts the essential metadata (intrinsics and extrinsics) from COLMAP's sparse reconstruction, which enables ray generation\n",
        "\n",
        "\n",
        "*   <b>get_rays(H, W, fx, fy, cx, cy, c2w</b>: computes ray origins and directions in world coordinates for each pixel in an image, given camera intrinsics and a camera-to-world matrix.\n",
        "\n",
        "> NeRF requires camera rays for each image pixel in world space, which are computed using pinhole camera parameters and camera poses in this function.\n",
        "\n",
        "\n",
        "*   <b>generate_ray_rgb_data(images_txt_dir, image_folder)</b>: main function which converts COLMAP camera and image data into per-pixel ray origins, directions and RGB values. Saves output as compressed .npz files.\n",
        "\n",
        "> This is the main preprocessing step which prepares training data for our NeRF model.\n",
        "\n",
        "\n",
        "*   <b>merge_batches_to_npz_streaming(qvec)</b>: merges all per-image .npz ray batches into a single compressed dataset using memory-efficient streaming, then (optionally) cleans up temporary files.\n",
        "\n",
        "> Helps consolidate large per-image ray datasets into a single output array. This function specifically avoids memory (RAM) overload by using disk-backed arrays.\n",
        "\n",
        "\\"
      ],
      "metadata": {
        "id": "QWGzTI8wg4UO"
      }
    },
    {
      "cell_type": "code",
      "source": [
        "import numpy as np\n",
        "import os\n",
        "import imageio\n",
        "from tqdm import tqdm\n",
        "\n",
        "\n",
        "def qvec2rotmat(qvec):\n",
        "    \"\"\"Convert quaternion to rotation matrix.\"\"\"\n",
        "    w, x, y, z = qvec\n",
        "    return np.array([\n",
        "        [1 - 2 * y**2 - 2 * z**2,     2 * x * y - 2 * z * w,     2 * x * z + 2 * y * w],\n",
        "        [2 * x * y + 2 * z * w,       1 - 2 * x**2 - 2 * z**2,   2 * y * z - 2 * x * w],\n",
        "        [2 * x * z - 2 * y * w,       2 * y * z + 2 * x * w,     1 - 2 * x**2 - 2 * y**2]\n",
        "    ])\n",
        "\n",
        "\n",
        "def parse_colmap_text(folder):\n",
        "    \"\"\"Parse COLMAP's cameras.txt and images.txt.\"\"\"\n",
        "    cameras = {}\n",
        "    with open(os.path.join(folder, 'cameras.txt'), 'r') as f:\n",
        "        for line in f:\n",
        "            if line.startswith('#'): continue\n",
        "            parts = line.split()\n",
        "            cam_id, model, W, H, fx, fy, cx, cy = int(parts[0]), parts[1], *map(float, parts[2:])\n",
        "            cameras[cam_id] = {'W': int(W), 'H': int(H), 'fx': fx, 'fy': fy, 'cx': cx, 'cy': cy}\n",
        "\n",
        "    images = []\n",
        "    with open(os.path.join(folder, 'images.txt'), 'r') as f:\n",
        "        lines = f.readlines()\n",
        "        for i in range(0, len(lines), 2):\n",
        "            if lines[i].startswith('#') or i + 1 >= len(lines): continue\n",
        "            parts = lines[i].split()\n",
        "            qvec = np.array(list(map(float, parts[1:5])))\n",
        "            tvec = np.array(list(map(float, parts[5:8])))\n",
        "            cam_id = int(parts[8])\n",
        "            img_name = parts[-1]\n",
        "            images.append((img_name, qvec, tvec, cam_id))\n",
        "\n",
        "    return images, cameras\n",
        "\n",
        "\n",
        "def get_rays(H, W, fx, fy, cx, cy, c2w):\n",
        "    \"\"\"Get ray origins and directions in world space.\"\"\"\n",
        "    i, j = np.meshgrid(np.arange(W), np.arange(H), indexing='xy')\n",
        "    dirs = np.stack([(i - cx) / fx, (j - cy) / fy, np.ones_like(i)], axis=-1)\n",
        "    rays_d = dirs @ c2w[:3, :3].T\n",
        "    rays_o = np.broadcast_to(c2w[:3, 3], rays_d.shape)\n",
        "    return rays_o, rays_d"
      ],
      "metadata": {
        "id": "0VlQtiqa5lWt"
      },
      "execution_count": 2,
      "outputs": []
    },
    {
      "cell_type": "code",
      "source": [
        "def generate_ray_rgb_data(images_txt_dir, image_folder):\n",
        "    images, cameras = parse_colmap_text(images_txt_dir)\n",
        "\n",
        "    tmp_dir = \"/content/tmp\"\n",
        "    os.makedirs(tmp_dir, exist_ok=True)\n",
        "\n",
        "    for img_name, qvec, tvec, cam_id in tqdm(images, desc=\"Processing images\"):\n",
        "        cam = cameras[cam_id]\n",
        "        H, W, fx, fy, cx, cy = cam['H'], cam['W'], cam['fx'], cam['fy'], cam['cx'], cam['cy']\n",
        "\n",
        "        # Load image and normalize\n",
        "        img_path = os.path.join(image_folder, img_name)\n",
        "        img = imageio.imread(img_path).astype(np.float32) / 255.0  # shape (H, W, 3)\n",
        "\n",
        "        # Build camera-to-world matrix\n",
        "        R = qvec2rotmat(qvec).T\n",
        "        t = -R @ tvec\n",
        "        c2w = np.eye(4)\n",
        "        c2w[:3, :3] = R\n",
        "        c2w[:3, 3] = t\n",
        "\n",
        "        # === Flip axes to match NeRF convention (COLMAP → NeRF) ===\n",
        "        c2w[:3, 2] *= -1  # Flip Z\n",
        "        c2w[:3, 1] *= -1  # Flip Y\n",
        "        c2w = c2w[[1, 0, 2, 3], :]  # Swap X and Y\n",
        "        c2w[2, :] *= -1  # Flip the scene\n",
        "\n",
        "        rays_o, rays_d = get_rays(H, W, fx, fy, cx, cy, c2w)\n",
        "\n",
        "        # Reshape for proper data formatting\n",
        "        rays_o = rays_o.reshape(-1, 3).astype(np.float16)\n",
        "        rays_d = rays_d.reshape(-1, 3).astype(np.float16)\n",
        "        rgb = img.reshape(-1, 3).astype(np.float16)\n",
        "\n",
        "        # Save batch\n",
        "        np.savez_compressed(os.path.join(tmp_dir, f\"{img_name}.npz\"), rays_o=rays_o, rays_d=rays_d, rgb=rgb)"
      ],
      "metadata": {
        "id": "1ff8-aXM2K2w"
      },
      "execution_count": 3,
      "outputs": []
    },
    {
      "cell_type": "code",
      "source": [
        "import glob\n",
        "\n",
        "\n",
        "def merge_batches_to_npz_streaming(tmp_dir, save_path):\n",
        "    paths = sorted(glob.glob(os.path.join(tmp_dir, \"*.npz\")))\n",
        "\n",
        "    # First pass: count total rays\n",
        "    total_rays = 0\n",
        "    for path in paths:\n",
        "        with np.load(path) as data:\n",
        "            total_rays += data[\"rays_o\"].shape[0]\n",
        "\n",
        "    # Create memory-mapped arrays\n",
        "    rays = np.memmap(\"rays.dat\", dtype=np.float16, mode=\"w+\", shape=(total_rays, 6))\n",
        "    rgb = np.memmap(\"rgb.dat\", dtype=np.float16, mode=\"w+\", shape=(total_rays, 3))\n",
        "\n",
        "    # Second pass: fill memory-mapped arrays\n",
        "    offset = 0\n",
        "    for path in tqdm(paths, desc=\"Merging ray batches\"):\n",
        "        with np.load(path) as data:\n",
        "            N = data[\"rays_o\"].shape[0]\n",
        "            rays[offset:offset+N, :3] = data[\"rays_o\"]\n",
        "            rays[offset:offset+N, 3:] = data[\"rays_d\"]\n",
        "            rgb[offset:offset+N] = data[\"rgb\"]\n",
        "            offset += N\n",
        "        os.remove(path) #optional, do it only if running out of disk space.\n",
        "\n",
        "    # Save final .npz\n",
        "    np.savez_compressed(save_path, rays=rays, rgb=rgb)\n",
        "    print(f\"Saved {total_rays} rays to {save_path}\")\n",
        "\n",
        "    # Clean up .dat files (optional)\n",
        "    os.remove(\"rays.dat\")\n",
        "    os.remove(\"rgb.dat\")"
      ],
      "metadata": {
        "id": "RHcMN_p83DDA"
      },
      "execution_count": 4,
      "outputs": []
    },
    {
      "cell_type": "markdown",
      "source": [
        "# Generate ray and rgb data\n",
        "\n",
        "Produces the ray and rgb data for each image in the dataset. Therefore outputs ~100 .npz arrays into the 'tmp' folder."
      ],
      "metadata": {
        "id": "vaoYxXCHg-HP"
      }
    },
    {
      "cell_type": "code",
      "source": [
        "generate_ray_rgb_data(\n",
        "     images_txt_dir=\"/content\",\n",
        "     image_folder=\"/content/iphone\"\n",
        " )"
      ],
      "metadata": {
        "colab": {
          "base_uri": "https://localhost:8080/"
        },
        "id": "iW4WQej7oOES",
        "outputId": "bd4979aa-ccf0-4cb0-f54b-7b32d76bfd3d"
      },
      "execution_count": 8,
      "outputs": [
        {
          "output_type": "stream",
          "name": "stderr",
          "text": [
            "\rProcessing images:   0%|          | 0/127 [00:00<?, ?it/s]<ipython-input-3-809c374aaeeb>:13: DeprecationWarning: Starting with ImageIO v3 the behavior of this function will switch to that of iio.v3.imread. To keep the current behavior (and make this warning disappear) use `import imageio.v2 as imageio` or call `imageio.v2.imread` directly.\n",
            "  img = imageio.imread(img_path).astype(np.float32) / 255.0  # shape (H, W, 3)\n",
            "Processing images: 100%|██████████| 127/127 [31:55<00:00, 15.08s/it]\n"
          ]
        }
      ]
    },
    {
      "cell_type": "markdown",
      "source": [
        "# Generate combined array of ray and rgb data\n",
        "\n",
        "Combines all the .npz arrays in the 'tmp' folder into one central .npz array, called \"full_ray_rgb_array.npz\""
      ],
      "metadata": {
        "id": "4ahgBg_kjHFr"
      }
    },
    {
      "cell_type": "code",
      "source": [
        "merge_batches_to_npz_streaming(\"/content/tmp\", save_path = \"full_ray_rgb_array.npz\")"
      ],
      "metadata": {
        "colab": {
          "base_uri": "https://localhost:8080/"
        },
        "id": "P1UnIrr4WQB8",
        "outputId": "df82e01c-0acf-40a1-e8f5-8c7b57ba25be"
      },
      "execution_count": null,
      "outputs": [
        {
          "output_type": "stream",
          "name": "stderr",
          "text": [
            "Merging ray batches: 100%|██████████| 127/127 [14:50<00:00,  7.01s/it]\n"
          ]
        }
      ]
    },
    {
      "cell_type": "code",
      "source": [
        "import os\n",
        "import numpy as np\n",
        "\n",
        "# 1. Path to file\n",
        "path = \"/content/rays.dat\"\n",
        "\n",
        "# 2. dtype and number of columns\n",
        "dtype = np.float16\n",
        "num_columns = 6\n",
        "\n",
        "# 3. Get total number of bytes\n",
        "num_bytes = os.path.getsize(path)\n",
        "\n",
        "# 4. Compute number of rows\n",
        "itemsize = np.dtype(dtype).itemsize  # should be 2 bytes for float16\n",
        "num_rows = num_bytes // (itemsize * num_columns)\n",
        "\n",
        "print(f\"Shape of rays.dat: ({num_rows}, {num_columns})\")\n"
      ],
      "metadata": {
        "colab": {
          "base_uri": "https://localhost:8080/"
        },
        "id": "bwerj944Fav_",
        "outputId": "9a793815-be84-47eb-8699-7b766b285941"
      },
      "execution_count": 1,
      "outputs": [
        {
          "output_type": "stream",
          "name": "stdout",
          "text": [
            "Shape of rays.dat: (2493844416, 6)\n"
          ]
        }
      ]
    },
    {
      "cell_type": "code",
      "source": [
        "import os\n",
        "import numpy as np\n",
        "\n",
        "# 1. Path to file\n",
        "path = \"/content/rgb.dat\"\n",
        "\n",
        "# 2. dtype and number of columns\n",
        "dtype = np.float16\n",
        "num_columns = 3\n",
        "\n",
        "# 3. Get total number of bytes\n",
        "num_bytes = os.path.getsize(path)\n",
        "\n",
        "# 4. Compute number of rows\n",
        "itemsize = np.dtype(dtype).itemsize  # should be 2 bytes for float16\n",
        "num_rows = num_bytes // (itemsize * num_columns)\n",
        "\n",
        "print(f\"Shape of rgb.dat: ({num_rows}, {num_columns})\")"
      ],
      "metadata": {
        "colab": {
          "base_uri": "https://localhost:8080/"
        },
        "id": "w-Tk315GG0Sd",
        "outputId": "d465754a-ae39-4ad8-9fc4-0fa1290cc9a3"
      },
      "execution_count": 3,
      "outputs": [
        {
          "output_type": "stream",
          "name": "stdout",
          "text": [
            "Shape of rgb.dat: (2493844416, 3)\n"
          ]
        }
      ]
    },
    {
      "cell_type": "code",
      "source": [
        "import numpy as np\n",
        "\n",
        "total_rays = 2493844416\n",
        "\n",
        "# Step 1: Reopen the memmaps from disk\n",
        "rays = np.memmap('/content/rays.dat', dtype=np.float16, mode='r', shape=(total_rays, 6))\n",
        "rgb  = np.memmap('/content/rgb.dat', dtype=np.float16, mode='r', shape=(total_rays, 3))\n",
        "\n",
        "# Step 2: Save them to compressed .npz without loading into RAM\n",
        "np.savez_compressed('full_ray_rgb_array.npz', rays=rays, rgb=rgb)\n"
      ],
      "metadata": {
        "id": "cEoANDmqJGKh"
      },
      "execution_count": 5,
      "outputs": []
    },
    {
      "cell_type": "code",
      "source": [
        "from google.colab import drive\n",
        "import shutil\n",
        "\n",
        "# Mount your Google Drive\n",
        "drive.mount('/content/drive')\n",
        "\n",
        "# Copy the file to your Drive\n",
        "shutil.copy('/content/full_ray_rgb_array.npz', '/content/drive/MyDrive/')\n"
      ],
      "metadata": {
        "colab": {
          "base_uri": "https://localhost:8080/",
          "height": 53
        },
        "id": "BP-CBop5UQ8n",
        "outputId": "fbe36c46-82c0-4573-9ba8-b8195e024715"
      },
      "execution_count": 6,
      "outputs": [
        {
          "output_type": "stream",
          "name": "stdout",
          "text": [
            "Mounted at /content/drive\n"
          ]
        },
        {
          "output_type": "execute_result",
          "data": {
            "text/plain": [
              "'/content/drive/MyDrive/full_ray_rgb_array.npz'"
            ],
            "application/vnd.google.colaboratory.intrinsic+json": {
              "type": "string"
            }
          },
          "metadata": {},
          "execution_count": 6
        }
      ]
    }
  ]
}